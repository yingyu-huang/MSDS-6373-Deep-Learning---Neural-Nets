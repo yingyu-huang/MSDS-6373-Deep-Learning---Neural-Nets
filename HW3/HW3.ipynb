{
 "cells": [
  {
   "cell_type": "code",
   "execution_count": 1,
   "metadata": {},
   "outputs": [],
   "source": [
    "# HW data prepare\n",
    "import pandas as pd\n",
    "import numpy as np"
   ]
  },
  {
   "cell_type": "code",
   "execution_count": 22,
   "metadata": {},
   "outputs": [],
   "source": [
    "dataY = pd.DataFrame(pd.read_csv('AMZN.csv')[['Date','Close']])\n",
    "dataY.columns = ['Date', 'AMZN']\n"
   ]
  },
  {
   "cell_type": "code",
   "execution_count": 23,
   "metadata": {},
   "outputs": [],
   "source": [
    "data1 = pd.DataFrame(pd.read_csv('AAL.csv')[['Date','Close']])\n",
    "data1.columns = ['Date', 'X1']\n",
    "data2 = pd.DataFrame(pd.read_csv('AAPL.csv')[['Date','Close']])\n",
    "data2.columns = ['Date', 'X2']\n",
    "data3 = pd.DataFrame(pd.read_csv('AMD.csv')[['Date','Close']])\n",
    "data3.columns = ['Date', 'X3']\n",
    "data4 = pd.DataFrame(pd.read_csv('AMRN.csv')[['Date','Close']])\n",
    "data4.columns = ['Date', 'X4']\n",
    "data5 = pd.DataFrame(pd.read_csv('AMZN.csv')[['Date','Close']])\n",
    "data5.columns = ['Date', 'X5']\n",
    "data6 = pd.DataFrame(pd.read_csv('APA.csv')[['Date','Close']])\n",
    "data6.columns = ['Date', 'X6']\n",
    "data7 = pd.DataFrame(pd.read_csv('AUY.csv')[['Date','Close']])\n",
    "data7.columns = ['Date', 'X7']\n",
    "data8 = pd.DataFrame(pd.read_csv('BA.csv')[['Date','Close']])\n",
    "data8.columns = ['Date', 'X8']\n",
    "data9 = pd.DataFrame(pd.read_csv('BAC.csv')[['Date','Close']])\n",
    "data9.columns = ['Date', 'X9']\n",
    "data10 = pd.DataFrame(pd.read_csv('BBD.csv')[['Date','Close']])\n",
    "data10.columns = ['Date', 'X10']\n",
    "data11 = pd.DataFrame(pd.read_csv('C.csv')[['Date','Close']])\n",
    "data11.columns = ['Date', 'X11']\n",
    "data12 = pd.DataFrame(pd.read_csv('CCL.csv')[['Date','Close']])\n",
    "data12.columns = ['Date', 'X12']"
   ]
  },
  {
   "cell_type": "code",
   "execution_count": 24,
   "metadata": {},
   "outputs": [],
   "source": [
    "data13 = pd.DataFrame(pd.read_csv('CMCSA.csv')[['Date','Close']])\n",
    "data13.columns = ['Date', 'X13']\n",
    "data14 = pd.DataFrame(pd.read_csv('CZR.csv')[['Date','Close']])\n",
    "data14.columns = ['Date', 'X14']\n",
    "data15 = pd.DataFrame(pd.read_csv('DAL.csv')[['Date','Close']])\n",
    "data15.columns = ['Date', 'X15']\n",
    "data16 = pd.DataFrame(pd.read_csv('DVN.csv')[['Date','Close']])\n",
    "data16.columns = ['Date', 'X16']\n",
    "data17 = pd.DataFrame(pd.read_csv('EQT.csv')[['Date','Close']])\n",
    "data17.columns = ['Date', 'X17']\n",
    "data18 = pd.DataFrame(pd.read_csv('ET.csv')[['Date','Close']])\n",
    "data18.columns = ['Date', 'X18']\n",
    "data19 = pd.DataFrame(pd.read_csv('F.csv')[['Date','Close']])\n",
    "data19.columns = ['Date', 'X19']\n",
    "data20 = pd.DataFrame(pd.read_csv('FB.csv')[['Date','Close']])\n",
    "data20.columns = ['Date', 'X20']\n",
    "data21 = pd.DataFrame(pd.read_csv('FCX.csv')[['Date','Close']])\n",
    "data21.columns = ['Date', 'X21']\n",
    "data22 = pd.DataFrame(pd.read_csv('GE.csv')[['Date','Close']])\n",
    "data22.columns = ['Date', 'X22']\n",
    "data23 = pd.DataFrame(pd.read_csv('GILD.csv')[['Date','Close']])\n",
    "data23.columns = ['Date', 'X23']\n",
    "data24 = pd.DataFrame(pd.read_csv('GOLD.csv')[['Date','Close']])\n",
    "data24.columns = ['Date', 'X24']"
   ]
  },
  {
   "cell_type": "code",
   "execution_count": 25,
   "metadata": {},
   "outputs": [],
   "source": [
    "data25 = pd.DataFrame(pd.read_csv('HAL.csv')[['Date','Close']])\n",
    "data25.columns = ['Date', 'X25']\n",
    "data26 = pd.DataFrame(pd.read_csv('INO.csv')[['Date','Close']])\n",
    "data26.columns = ['Date', 'X26']\n",
    "data27 = pd.DataFrame(pd.read_csv('ITUB.csv')[['Date','Close']])\n",
    "data27.columns = ['Date', 'X27']\n",
    "data28 = pd.DataFrame(pd.read_csv('IVZ.csv')[['Date','Close']])\n",
    "data28.columns = ['Date', 'X28']\n",
    "data29 = pd.DataFrame(pd.read_csv('JPM.csv')[['Date','Close']])\n",
    "data29.columns = ['Date', 'X29']\n",
    "data30 = pd.DataFrame(pd.read_csv('KGC.csv')[['Date','Close']])\n",
    "data30.columns = ['Date', 'X30']\n",
    "data31 = pd.DataFrame(pd.read_csv('KMI.csv')[['Date','Close']])\n",
    "data31.columns = ['Date', 'X31']\n",
    "data32 = pd.DataFrame(pd.read_csv('MGM.csv')[['Date','Close']])\n",
    "data32.columns = ['Date', 'X32']\n",
    "data33 = pd.DataFrame(pd.read_csv('MRO.csv')[['Date','Close']])\n",
    "data33.columns = ['Date', 'X33']\n",
    "data34 = pd.DataFrame(pd.read_csv('MSFT.csv')[['Date','Close']])\n",
    "data34.columns = ['Date', 'X34']\n",
    "data35 = pd.DataFrame(pd.read_csv('MU.csv')[['Date','Close']])\n",
    "data35.columns = ['Date', 'X35']\n",
    "data36 = pd.DataFrame(pd.read_csv('NBL.csv')[['Date','Close']])\n",
    "data36.columns = ['Date', 'X36']"
   ]
  },
  {
   "cell_type": "code",
   "execution_count": 26,
   "metadata": {},
   "outputs": [],
   "source": [
    "data37 = pd.DataFrame(pd.read_csv('NCLH.csv')[['Date','Close']])\n",
    "data37.columns = ['Date', 'X37']\n",
    "data38 = pd.DataFrame(pd.read_csv('OXY.csv')[['Date','Close']])\n",
    "data38.columns = ['Date', 'X38']\n",
    "data39 = pd.DataFrame(pd.read_csv('BRK-B.csv')[['Date','Close']])\n",
    "data39.columns = ['Date', 'X39']\n",
    "data40 = pd.DataFrame(pd.read_csv('PFE.csv')[['Date','Close']])\n",
    "data40.columns = ['Date', 'X40']\n",
    "data41 = pd.DataFrame(pd.read_csv('RF.csv')[['Date','Close']])\n",
    "data41.columns = ['Date', 'X41']\n",
    "data42 = pd.DataFrame(pd.read_csv('SIRI.csv')[['Date','Close']])\n",
    "data42.columns = ['Date', 'X42']\n",
    "data43 = pd.DataFrame(pd.read_csv('SLB.csv')[['Date','Close']])\n",
    "data43.columns = ['Date', 'X43']\n",
    "data44 = pd.DataFrame(pd.read_csv('T.csv')[['Date','Close']])\n",
    "data44.columns = ['Date', 'X44']\n",
    "data45 = pd.DataFrame(pd.read_csv('TWTR.csv')[['Date','Close']])\n",
    "data45.columns = ['Date', 'X45']\n",
    "data46 = pd.DataFrame(pd.read_csv('UAL.csv')[['Date','Close']])\n",
    "data46.columns = ['Date', 'X46']\n",
    "data47 = pd.DataFrame(pd.read_csv('VALE.csv')[['Date','Close']])\n",
    "data47.columns = ['Date', 'X47']\n",
    "data48 = pd.DataFrame(pd.read_csv('VER.csv')[['Date','Close']])\n",
    "data48.columns = ['Date', 'X48']\n",
    "data49 = pd.DataFrame(pd.read_csv('WFC.csv')[['Date','Close']])\n",
    "data49.columns = ['Date', 'X49']\n",
    "data50 = pd.DataFrame(pd.read_csv('XOM.csv')[['Date','Close']])\n",
    "data50.columns = ['Date', 'X50']"
   ]
  },
  {
   "cell_type": "code",
   "execution_count": 27,
   "metadata": {},
   "outputs": [],
   "source": [
    "data = pd.merge(data1, data2, how='outer', on='Date')\n",
    "data = pd.merge(data, data3, how='outer', on='Date')\n",
    "data = pd.merge(data, data4, how='outer', on='Date')\n",
    "data = pd.merge(data, data5, how='outer', on='Date')\n",
    "data = pd.merge(data, data6, how='outer', on='Date')\n",
    "data = pd.merge(data, data7, how='outer', on='Date')\n",
    "data = pd.merge(data, data8, how='outer', on='Date')\n",
    "data = pd.merge(data, data9, how='outer', on='Date')\n",
    "data = pd.merge(data, data10, how='outer', on='Date')\n",
    "data = pd.merge(data, data11, how='outer', on='Date')\n",
    "data = pd.merge(data, data12, how='outer', on='Date')\n",
    "data = pd.merge(data, data13, how='outer', on='Date')\n",
    "data = pd.merge(data, data14, how='outer', on='Date')\n",
    "data = pd.merge(data, data15, how='outer', on='Date')\n",
    "data = pd.merge(data, data16, how='outer', on='Date')\n",
    "data = pd.merge(data, data17, how='outer', on='Date')\n",
    "data = pd.merge(data, data18, how='outer', on='Date')\n",
    "data = pd.merge(data, data19, how='outer', on='Date')\n",
    "data = pd.merge(data, data20, how='outer', on='Date')\n",
    "data = pd.merge(data, data21, how='outer', on='Date')\n",
    "data = pd.merge(data, data22, how='outer', on='Date')\n",
    "data = pd.merge(data, data23, how='outer', on='Date')\n",
    "data = pd.merge(data, data24, how='outer', on='Date')\n",
    "data = pd.merge(data, data25, how='outer', on='Date')\n",
    "data = pd.merge(data, data26, how='outer', on='Date')\n",
    "data = pd.merge(data, data27, how='outer', on='Date')\n",
    "data = pd.merge(data, data28, how='outer', on='Date')\n",
    "data = pd.merge(data, data29, how='outer', on='Date')\n",
    "data = pd.merge(data, data30, how='outer', on='Date')\n",
    "data = pd.merge(data, data31, how='outer', on='Date')\n",
    "data = pd.merge(data, data32, how='outer', on='Date')\n",
    "data = pd.merge(data, data33, how='outer', on='Date')\n",
    "data = pd.merge(data, data34, how='outer', on='Date')\n",
    "data = pd.merge(data, data35, how='outer', on='Date')\n",
    "data = pd.merge(data, data36, how='outer', on='Date')\n",
    "data = pd.merge(data, data37, how='outer', on='Date')\n",
    "data = pd.merge(data, data38, how='outer', on='Date')\n",
    "data = pd.merge(data, data39, how='outer', on='Date')\n",
    "data = pd.merge(data, data40, how='outer', on='Date')\n",
    "data = pd.merge(data, data41, how='outer', on='Date')\n",
    "data = pd.merge(data, data42, how='outer', on='Date')\n",
    "data = pd.merge(data, data43, how='outer', on='Date')\n",
    "data = pd.merge(data, data44, how='outer', on='Date')\n",
    "data = pd.merge(data, data45, how='outer', on='Date')\n",
    "data = pd.merge(data, data46, how='outer', on='Date')\n",
    "data = pd.merge(data, data47, how='outer', on='Date')\n",
    "data = pd.merge(data, data48, how='outer', on='Date')\n",
    "data = pd.merge(data, data49, how='outer', on='Date')\n",
    "data = pd.merge(data, data50, how='outer', on='Date')"
   ]
  },
  {
   "cell_type": "code",
   "execution_count": 28,
   "metadata": {},
   "outputs": [
    {
     "data": {
      "text/plain": [
       "Date    0\n",
       "X1      0\n",
       "X2      0\n",
       "X3      0\n",
       "X4      0\n",
       "X5      0\n",
       "X6      0\n",
       "X7      0\n",
       "X8      0\n",
       "X9      0\n",
       "X10     0\n",
       "X11     0\n",
       "X12     0\n",
       "X13     0\n",
       "X14     0\n",
       "X15     0\n",
       "X16     0\n",
       "X17     0\n",
       "X18     0\n",
       "X19     0\n",
       "X20     0\n",
       "X21     0\n",
       "X22     0\n",
       "X23     0\n",
       "X24     0\n",
       "X25     0\n",
       "X26     0\n",
       "X27     0\n",
       "X28     0\n",
       "X29     0\n",
       "X30     0\n",
       "X31     0\n",
       "X32     0\n",
       "X33     0\n",
       "X34     0\n",
       "X35     0\n",
       "X36     0\n",
       "X37     0\n",
       "X38     0\n",
       "X39     0\n",
       "X40     0\n",
       "X41     0\n",
       "X42     0\n",
       "X43     0\n",
       "X44     0\n",
       "X45     0\n",
       "X46     0\n",
       "X47     0\n",
       "X48     0\n",
       "X49     0\n",
       "X50     0\n",
       "dtype: int64"
      ]
     },
     "execution_count": 28,
     "metadata": {},
     "output_type": "execute_result"
    }
   ],
   "source": [
    "data.isna().sum()"
   ]
  },
  {
   "cell_type": "code",
   "execution_count": 29,
   "metadata": {},
   "outputs": [
    {
     "data": {
      "text/plain": [
       "(1007, 51)"
      ]
     },
     "execution_count": 29,
     "metadata": {},
     "output_type": "execute_result"
    }
   ],
   "source": [
    "data.shape"
   ]
  },
  {
   "cell_type": "code",
   "execution_count": 30,
   "metadata": {},
   "outputs": [
    {
     "data": {
      "text/html": [
       "<div>\n",
       "<style scoped>\n",
       "    .dataframe tbody tr th:only-of-type {\n",
       "        vertical-align: middle;\n",
       "    }\n",
       "\n",
       "    .dataframe tbody tr th {\n",
       "        vertical-align: top;\n",
       "    }\n",
       "\n",
       "    .dataframe thead th {\n",
       "        text-align: right;\n",
       "    }\n",
       "</style>\n",
       "<table border=\"1\" class=\"dataframe\">\n",
       "  <thead>\n",
       "    <tr style=\"text-align: right;\">\n",
       "      <th></th>\n",
       "      <th>Date</th>\n",
       "      <th>X1</th>\n",
       "      <th>X2</th>\n",
       "      <th>X3</th>\n",
       "      <th>X4</th>\n",
       "      <th>X5</th>\n",
       "      <th>X6</th>\n",
       "      <th>X7</th>\n",
       "      <th>X8</th>\n",
       "      <th>X9</th>\n",
       "      <th>...</th>\n",
       "      <th>X41</th>\n",
       "      <th>X42</th>\n",
       "      <th>X43</th>\n",
       "      <th>X44</th>\n",
       "      <th>X45</th>\n",
       "      <th>X46</th>\n",
       "      <th>X47</th>\n",
       "      <th>X48</th>\n",
       "      <th>X49</th>\n",
       "      <th>X50</th>\n",
       "    </tr>\n",
       "  </thead>\n",
       "  <tbody>\n",
       "    <tr>\n",
       "      <th>0</th>\n",
       "      <td>2014-01-02</td>\n",
       "      <td>25.360001</td>\n",
       "      <td>79.018570</td>\n",
       "      <td>3.95</td>\n",
       "      <td>1.96</td>\n",
       "      <td>397.970001</td>\n",
       "      <td>85.480003</td>\n",
       "      <td>8.98</td>\n",
       "      <td>136.669998</td>\n",
       "      <td>16.10</td>\n",
       "      <td>...</td>\n",
       "      <td>9.89</td>\n",
       "      <td>3.50</td>\n",
       "      <td>88.820000</td>\n",
       "      <td>34.950001</td>\n",
       "      <td>67.500000</td>\n",
       "      <td>37.730000</td>\n",
       "      <td>14.53</td>\n",
       "      <td>12.87</td>\n",
       "      <td>45.020000</td>\n",
       "      <td>99.750000</td>\n",
       "    </tr>\n",
       "    <tr>\n",
       "      <th>1</th>\n",
       "      <td>2014-01-03</td>\n",
       "      <td>26.540001</td>\n",
       "      <td>77.282860</td>\n",
       "      <td>4.00</td>\n",
       "      <td>1.99</td>\n",
       "      <td>396.440002</td>\n",
       "      <td>85.540001</td>\n",
       "      <td>8.85</td>\n",
       "      <td>137.619995</td>\n",
       "      <td>16.41</td>\n",
       "      <td>...</td>\n",
       "      <td>9.87</td>\n",
       "      <td>3.57</td>\n",
       "      <td>88.349998</td>\n",
       "      <td>34.799999</td>\n",
       "      <td>69.000000</td>\n",
       "      <td>39.950001</td>\n",
       "      <td>14.33</td>\n",
       "      <td>12.91</td>\n",
       "      <td>45.340000</td>\n",
       "      <td>99.510002</td>\n",
       "    </tr>\n",
       "    <tr>\n",
       "      <th>2</th>\n",
       "      <td>2014-01-06</td>\n",
       "      <td>27.030001</td>\n",
       "      <td>77.704285</td>\n",
       "      <td>4.13</td>\n",
       "      <td>2.02</td>\n",
       "      <td>393.630005</td>\n",
       "      <td>86.309998</td>\n",
       "      <td>8.92</td>\n",
       "      <td>138.410004</td>\n",
       "      <td>16.66</td>\n",
       "      <td>...</td>\n",
       "      <td>10.07</td>\n",
       "      <td>3.83</td>\n",
       "      <td>88.019997</td>\n",
       "      <td>34.959999</td>\n",
       "      <td>66.290001</td>\n",
       "      <td>39.360001</td>\n",
       "      <td>14.29</td>\n",
       "      <td>12.82</td>\n",
       "      <td>45.419998</td>\n",
       "      <td>99.660004</td>\n",
       "    </tr>\n",
       "    <tr>\n",
       "      <th>3</th>\n",
       "      <td>2014-01-07</td>\n",
       "      <td>26.910000</td>\n",
       "      <td>77.148575</td>\n",
       "      <td>4.18</td>\n",
       "      <td>2.00</td>\n",
       "      <td>398.029999</td>\n",
       "      <td>87.900002</td>\n",
       "      <td>9.03</td>\n",
       "      <td>140.509995</td>\n",
       "      <td>16.50</td>\n",
       "      <td>...</td>\n",
       "      <td>10.10</td>\n",
       "      <td>3.86</td>\n",
       "      <td>87.510002</td>\n",
       "      <td>34.950001</td>\n",
       "      <td>61.459999</td>\n",
       "      <td>38.689999</td>\n",
       "      <td>14.04</td>\n",
       "      <td>12.84</td>\n",
       "      <td>45.400002</td>\n",
       "      <td>101.070000</td>\n",
       "    </tr>\n",
       "    <tr>\n",
       "      <th>4</th>\n",
       "      <td>2014-01-08</td>\n",
       "      <td>27.629999</td>\n",
       "      <td>77.637146</td>\n",
       "      <td>4.18</td>\n",
       "      <td>2.04</td>\n",
       "      <td>401.920013</td>\n",
       "      <td>86.650002</td>\n",
       "      <td>9.12</td>\n",
       "      <td>140.820007</td>\n",
       "      <td>16.58</td>\n",
       "      <td>...</td>\n",
       "      <td>10.25</td>\n",
       "      <td>3.77</td>\n",
       "      <td>86.980003</td>\n",
       "      <td>34.240002</td>\n",
       "      <td>59.290001</td>\n",
       "      <td>41.020000</td>\n",
       "      <td>13.95</td>\n",
       "      <td>12.66</td>\n",
       "      <td>45.919998</td>\n",
       "      <td>100.739998</td>\n",
       "    </tr>\n",
       "  </tbody>\n",
       "</table>\n",
       "<p>5 rows × 51 columns</p>\n",
       "</div>"
      ],
      "text/plain": [
       "         Date         X1         X2    X3    X4          X5         X6    X7  \\\n",
       "0  2014-01-02  25.360001  79.018570  3.95  1.96  397.970001  85.480003  8.98   \n",
       "1  2014-01-03  26.540001  77.282860  4.00  1.99  396.440002  85.540001  8.85   \n",
       "2  2014-01-06  27.030001  77.704285  4.13  2.02  393.630005  86.309998  8.92   \n",
       "3  2014-01-07  26.910000  77.148575  4.18  2.00  398.029999  87.900002  9.03   \n",
       "4  2014-01-08  27.629999  77.637146  4.18  2.04  401.920013  86.650002  9.12   \n",
       "\n",
       "           X8     X9  ...    X41   X42        X43        X44        X45  \\\n",
       "0  136.669998  16.10  ...   9.89  3.50  88.820000  34.950001  67.500000   \n",
       "1  137.619995  16.41  ...   9.87  3.57  88.349998  34.799999  69.000000   \n",
       "2  138.410004  16.66  ...  10.07  3.83  88.019997  34.959999  66.290001   \n",
       "3  140.509995  16.50  ...  10.10  3.86  87.510002  34.950001  61.459999   \n",
       "4  140.820007  16.58  ...  10.25  3.77  86.980003  34.240002  59.290001   \n",
       "\n",
       "         X46    X47    X48        X49         X50  \n",
       "0  37.730000  14.53  12.87  45.020000   99.750000  \n",
       "1  39.950001  14.33  12.91  45.340000   99.510002  \n",
       "2  39.360001  14.29  12.82  45.419998   99.660004  \n",
       "3  38.689999  14.04  12.84  45.400002  101.070000  \n",
       "4  41.020000  13.95  12.66  45.919998  100.739998  \n",
       "\n",
       "[5 rows x 51 columns]"
      ]
     },
     "execution_count": 30,
     "metadata": {},
     "output_type": "execute_result"
    }
   ],
   "source": [
    "data.head()"
   ]
  },
  {
   "cell_type": "code",
   "execution_count": 31,
   "metadata": {},
   "outputs": [],
   "source": [
    "data_ave = np.empty(shape=[1007,50])\n",
    "for stock in range(1,51) :\n",
    "    for day in range(1007):\n",
    "        data_ave[day,stock-1]= float(data.iloc[day,stock])/float(data.iloc[0:(day+1),stock].sum())*(day+1)"
   ]
  },
  {
   "cell_type": "code",
   "execution_count": 32,
   "metadata": {},
   "outputs": [],
   "source": [
    "data_input = np.empty(shape=[1002,250])\n",
    "for day in range(1002):\n",
    "    data_input[day,]=data_ave[day:day+5,:].reshape((1,250))"
   ]
  },
  {
   "cell_type": "code",
   "execution_count": 33,
   "metadata": {},
   "outputs": [
    {
     "data": {
      "text/plain": [
       "matrix([[ 401.01001 ],\n",
       "        [ 397.660004],\n",
       "        [ 390.980011],\n",
       "        ...,\n",
       "        [1182.26001 ],\n",
       "        [1186.099976],\n",
       "        [1169.469971]])"
      ]
     },
     "execution_count": 33,
     "metadata": {},
     "output_type": "execute_result"
    }
   ],
   "source": [
    "data_input_y = np.matrix(dataY.iloc[5:1007,1]).T\n",
    "data_input_y"
   ]
  },
  {
   "cell_type": "code",
   "execution_count": 34,
   "metadata": {},
   "outputs": [
    {
     "data": {
      "text/plain": [
       "(1002, 1)"
      ]
     },
     "execution_count": 34,
     "metadata": {},
     "output_type": "execute_result"
    }
   ],
   "source": [
    "date_input = np.matrix(dataY.iloc[5:1007,0]).T\n",
    "date_input.shape"
   ]
  },
  {
   "cell_type": "code",
   "execution_count": 35,
   "metadata": {},
   "outputs": [],
   "source": [
    "data_input = np.concatenate((data_input, data_input_y,date_input),axis=1)"
   ]
  },
  {
   "cell_type": "code",
   "execution_count": 36,
   "metadata": {},
   "outputs": [
    {
     "data": {
      "text/plain": [
       "(1002, 252)"
      ]
     },
     "execution_count": 36,
     "metadata": {},
     "output_type": "execute_result"
    }
   ],
   "source": [
    "data_input.shape"
   ]
  },
  {
   "cell_type": "code",
   "execution_count": 37,
   "metadata": {},
   "outputs": [],
   "source": [
    "from sklearn.model_selection import train_test_split\n",
    "second_size = 102/1002\n",
    "train, test = train_test_split(data_input, test_size=second_size,random_state=123)"
   ]
  },
  {
   "cell_type": "code",
   "execution_count": 38,
   "metadata": {},
   "outputs": [
    {
     "data": {
      "text/plain": [
       "(900, 252)"
      ]
     },
     "execution_count": 38,
     "metadata": {},
     "output_type": "execute_result"
    }
   ],
   "source": [
    "train.shape"
   ]
  },
  {
   "cell_type": "code",
   "execution_count": 39,
   "metadata": {},
   "outputs": [
    {
     "data": {
      "text/plain": [
       "(102, 252)"
      ]
     },
     "execution_count": 39,
     "metadata": {},
     "output_type": "execute_result"
    }
   ],
   "source": [
    "test.shape"
   ]
  },
  {
   "cell_type": "code",
   "execution_count": 40,
   "metadata": {},
   "outputs": [],
   "source": [
    "train=pd.DataFrame(train)\n",
    "test=pd.DataFrame(test)\n",
    "train=train.sort_values(by=[251])\n",
    "test=test.sort_values(by=[251])\n",
    "train.iloc[:,0:251].to_csv('train.csv')\n",
    "test.iloc[:,0:251].to_csv('test.csv')"
   ]
  },
  {
   "cell_type": "code",
   "execution_count": 41,
   "metadata": {},
   "outputs": [
    {
     "data": {
      "text/plain": [
       "matrix([[1.0, 1.0, 1.0, ..., 0.9875195007800314, 1.0110083312286071,\n",
       "         1.005931312236684],\n",
       "        [1.0227360299523687, 0.9888951111963596, 1.0062893081761006, ...,\n",
       "         0.9908830424589736, 1.013540225525435, 0.9967859681581446],\n",
       "        [1.027366019484378, 0.9961844521617775, 1.025662251655629, ...,\n",
       "         1.013588772555135, 1.0074561278896252, 1.0037516953948515],\n",
       "        ...,\n",
       "        [1.2159384255216612, 1.5158271785780297, 1.8703048511210045, ...,\n",
       "         0.8091822301912605, 1.178477932007071, 0.9644769840632168],\n",
       "        [1.2255530521917044, 1.496549856544686, 1.867067792809627, ...,\n",
       "         0.8115557496528907, 1.166598281713421, 0.9637417678040979],\n",
       "        [1.245783201177837, 1.501462383159173, 1.8501911778420217, ...,\n",
       "         0.8013626305768539, 1.1730952492918099, 0.965153588915798]],\n",
       "       dtype=object)"
      ]
     },
     "execution_count": 41,
     "metadata": {},
     "output_type": "execute_result"
    }
   ],
   "source": [
    "Xtrain = np.matrix(train.iloc[:,0:250])\n",
    "Xtrain"
   ]
  },
  {
   "cell_type": "code",
   "execution_count": 125,
   "metadata": {},
   "outputs": [
    {
     "ename": "AttributeError",
     "evalue": "'float' object has no attribute 'shape'",
     "output_type": "error",
     "traceback": [
      "\u001b[1;31m---------------------------------------------------------------------------\u001b[0m",
      "\u001b[1;31mAttributeError\u001b[0m                            Traceback (most recent call last)",
      "\u001b[1;32m<ipython-input-125-0efa90c6856c>\u001b[0m in \u001b[0;36m<module>\u001b[1;34m\u001b[0m\n\u001b[1;32m----> 1\u001b[1;33m \u001b[0mG\u001b[0m \u001b[1;33m=\u001b[0m \u001b[0mnp\u001b[0m\u001b[1;33m.\u001b[0m\u001b[0mcorrcoef\u001b[0m\u001b[1;33m(\u001b[0m\u001b[0mXtrain\u001b[0m\u001b[1;33m.\u001b[0m\u001b[0mT\u001b[0m\u001b[1;33m)\u001b[0m\u001b[1;33m\u001b[0m\u001b[1;33m\u001b[0m\u001b[0m\n\u001b[0m",
      "\u001b[1;32m~\\Anaconda3\\lib\\site-packages\\numpy\\lib\\function_base.py\u001b[0m in \u001b[0;36mcorrcoef\u001b[1;34m(x, y, rowvar, bias, ddof)\u001b[0m\n\u001b[0;32m   2520\u001b[0m         warnings.warn('bias and ddof have no effect and are deprecated',\n\u001b[0;32m   2521\u001b[0m                       DeprecationWarning, stacklevel=2)\n\u001b[1;32m-> 2522\u001b[1;33m     \u001b[0mc\u001b[0m \u001b[1;33m=\u001b[0m \u001b[0mcov\u001b[0m\u001b[1;33m(\u001b[0m\u001b[0mx\u001b[0m\u001b[1;33m,\u001b[0m \u001b[0my\u001b[0m\u001b[1;33m,\u001b[0m \u001b[0mrowvar\u001b[0m\u001b[1;33m)\u001b[0m\u001b[1;33m\u001b[0m\u001b[1;33m\u001b[0m\u001b[0m\n\u001b[0m\u001b[0;32m   2523\u001b[0m     \u001b[1;32mtry\u001b[0m\u001b[1;33m:\u001b[0m\u001b[1;33m\u001b[0m\u001b[1;33m\u001b[0m\u001b[0m\n\u001b[0;32m   2524\u001b[0m         \u001b[0md\u001b[0m \u001b[1;33m=\u001b[0m \u001b[0mdiag\u001b[0m\u001b[1;33m(\u001b[0m\u001b[0mc\u001b[0m\u001b[1;33m)\u001b[0m\u001b[1;33m\u001b[0m\u001b[1;33m\u001b[0m\u001b[0m\n",
      "\u001b[1;32m~\\Anaconda3\\lib\\site-packages\\numpy\\lib\\function_base.py\u001b[0m in \u001b[0;36mcov\u001b[1;34m(m, y, rowvar, bias, ddof, fweights, aweights)\u001b[0m\n\u001b[0;32m   2425\u001b[0m             \u001b[0mw\u001b[0m \u001b[1;33m*=\u001b[0m \u001b[0maweights\u001b[0m\u001b[1;33m\u001b[0m\u001b[1;33m\u001b[0m\u001b[0m\n\u001b[0;32m   2426\u001b[0m \u001b[1;33m\u001b[0m\u001b[0m\n\u001b[1;32m-> 2427\u001b[1;33m     \u001b[0mavg\u001b[0m\u001b[1;33m,\u001b[0m \u001b[0mw_sum\u001b[0m \u001b[1;33m=\u001b[0m \u001b[0maverage\u001b[0m\u001b[1;33m(\u001b[0m\u001b[0mX\u001b[0m\u001b[1;33m,\u001b[0m \u001b[0maxis\u001b[0m\u001b[1;33m=\u001b[0m\u001b[1;36m1\u001b[0m\u001b[1;33m,\u001b[0m \u001b[0mweights\u001b[0m\u001b[1;33m=\u001b[0m\u001b[0mw\u001b[0m\u001b[1;33m,\u001b[0m \u001b[0mreturned\u001b[0m\u001b[1;33m=\u001b[0m\u001b[1;32mTrue\u001b[0m\u001b[1;33m)\u001b[0m\u001b[1;33m\u001b[0m\u001b[1;33m\u001b[0m\u001b[0m\n\u001b[0m\u001b[0;32m   2428\u001b[0m     \u001b[0mw_sum\u001b[0m \u001b[1;33m=\u001b[0m \u001b[0mw_sum\u001b[0m\u001b[1;33m[\u001b[0m\u001b[1;36m0\u001b[0m\u001b[1;33m]\u001b[0m\u001b[1;33m\u001b[0m\u001b[1;33m\u001b[0m\u001b[0m\n\u001b[0;32m   2429\u001b[0m \u001b[1;33m\u001b[0m\u001b[0m\n",
      "\u001b[1;32m~\\Anaconda3\\lib\\site-packages\\numpy\\lib\\function_base.py\u001b[0m in \u001b[0;36maverage\u001b[1;34m(a, axis, weights, returned)\u001b[0m\n\u001b[0;32m    425\u001b[0m \u001b[1;33m\u001b[0m\u001b[0m\n\u001b[0;32m    426\u001b[0m     \u001b[1;32mif\u001b[0m \u001b[0mreturned\u001b[0m\u001b[1;33m:\u001b[0m\u001b[1;33m\u001b[0m\u001b[1;33m\u001b[0m\u001b[0m\n\u001b[1;32m--> 427\u001b[1;33m         \u001b[1;32mif\u001b[0m \u001b[0mscl\u001b[0m\u001b[1;33m.\u001b[0m\u001b[0mshape\u001b[0m \u001b[1;33m!=\u001b[0m \u001b[0mavg\u001b[0m\u001b[1;33m.\u001b[0m\u001b[0mshape\u001b[0m\u001b[1;33m:\u001b[0m\u001b[1;33m\u001b[0m\u001b[1;33m\u001b[0m\u001b[0m\n\u001b[0m\u001b[0;32m    428\u001b[0m             \u001b[0mscl\u001b[0m \u001b[1;33m=\u001b[0m \u001b[0mnp\u001b[0m\u001b[1;33m.\u001b[0m\u001b[0mbroadcast_to\u001b[0m\u001b[1;33m(\u001b[0m\u001b[0mscl\u001b[0m\u001b[1;33m,\u001b[0m \u001b[0mavg\u001b[0m\u001b[1;33m.\u001b[0m\u001b[0mshape\u001b[0m\u001b[1;33m)\u001b[0m\u001b[1;33m.\u001b[0m\u001b[0mcopy\u001b[0m\u001b[1;33m(\u001b[0m\u001b[1;33m)\u001b[0m\u001b[1;33m\u001b[0m\u001b[1;33m\u001b[0m\u001b[0m\n\u001b[0;32m    429\u001b[0m         \u001b[1;32mreturn\u001b[0m \u001b[0mavg\u001b[0m\u001b[1;33m,\u001b[0m \u001b[0mscl\u001b[0m\u001b[1;33m\u001b[0m\u001b[1;33m\u001b[0m\u001b[0m\n",
      "\u001b[1;31mAttributeError\u001b[0m: 'float' object has no attribute 'shape'"
     ]
    }
   ],
   "source": [
    "G = np.corrcoef(Xtrain.T)"
   ]
  },
  {
   "cell_type": "code",
   "execution_count": 160,
   "metadata": {},
   "outputs": [],
   "source": [
    "# pca to determine h\n",
    "from numpy import linalg as la\n",
    "eigenv=la.eig(G)\n",
    "eigenValues=eigenv[0]\n",
    "eigenValues=np.sort(eigenValues)[::-1]"
   ]
  },
  {
   "cell_type": "code",
   "execution_count": 158,
   "metadata": {},
   "outputs": [
    {
     "data": {
      "text/plain": [
       "6"
      ]
     },
     "execution_count": 158,
     "metadata": {},
     "output_type": "execute_result"
    }
   ],
   "source": [
    "RAT=[]\n",
    "eigen_sum=0\n",
    "for i in range(250):\n",
    "    eigen_sum=eigen_sum+eigenValues[i]\n",
    "    ratio=eigen_sum/sum(eigenValues)\n",
    "    RAT.append(ratio)\n",
    "# Identify the smallest j such that RATj ≥ 90% \n",
    "j=0\n",
    "for i in range(250):\n",
    "    if RAT[i]>=0.90:\n",
    "        j=i\n",
    "        break\n",
    "j"
   ]
  },
  {
   "cell_type": "code",
   "execution_count": null,
   "metadata": {},
   "outputs": [],
   "source": []
  }
 ],
 "metadata": {
  "kernelspec": {
   "display_name": "Python 3",
   "language": "python",
   "name": "python3"
  },
  "language_info": {
   "codemirror_mode": {
    "name": "ipython",
    "version": 3
   },
   "file_extension": ".py",
   "mimetype": "text/x-python",
   "name": "python",
   "nbconvert_exporter": "python",
   "pygments_lexer": "ipython3",
   "version": "3.7.3"
  }
 },
 "nbformat": 4,
 "nbformat_minor": 2
}
